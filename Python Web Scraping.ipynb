{
 "metadata": {
  "language_info": {
   "codemirror_mode": {
    "name": "ipython",
    "version": 3
   },
   "file_extension": ".py",
   "mimetype": "text/x-python",
   "name": "python",
   "nbconvert_exporter": "python",
   "pygments_lexer": "ipython3",
   "version": "3.9.0-final"
  },
  "orig_nbformat": 2,
  "kernelspec": {
   "name": "python3",
   "display_name": "Python 3.9.0 64-bit",
   "metadata": {
    "interpreter": {
     "hash": "ac2eaa0ea0ebeafcc7822e65e46aa9d4f966f30b695406963e145ea4a91cd4fc"
    }
   }
  }
 },
 "nbformat": 4,
 "nbformat_minor": 2,
 "cells": [
  {
   "cell_type": "code",
   "execution_count": 4,
   "metadata": {},
   "outputs": [],
   "source": [
    "from bs4 import BeautifulSoup\n",
    "from selenium import webdriver as wd\n",
    "import pandas as pd\n",
    "import numpy as np\n",
    "import time"
   ]
  },
  {
   "cell_type": "code",
   "execution_count": 5,
   "metadata": {},
   "outputs": [],
   "source": [
    "driver = wd.Chrome()\n",
    "def scroll(driver, timeout):\n",
    "    scroll_pause_time = timeout\n",
    "    # Get scroll height\n",
    "    last_height = driver.execute_script(\"return document.body.scrollHeight\")\n",
    "    while True:\n",
    "        # Scroll down to bottom\n",
    "        driver.execute_script(\"window.scrollTo(0, document.body.scrollHeight);\")\n",
    "        # Wait to load page\n",
    "        time.sleep(scroll_pause_time)\n",
    "        # Calculate new scroll height and compare with last scroll height\n",
    "        new_height = driver.execute_script(\"return document.body.scrollHeight\")\n",
    "        if new_height == last_height:\n",
    "            # If heights are the same it will exit the function\n",
    "            break\n",
    "        last_height = new_height"
   ]
  },
  {
   "cell_type": "code",
   "execution_count": 6,
   "metadata": {},
   "outputs": [],
   "source": [
    "titles, years, certificates, runtimes, genres, ratings, metascores = [], [], [], [], [], [], []\n",
    "data = [titles, years, certificates, runtimes, genres, ratings, metascores]"
   ]
  },
  {
   "cell_type": "code",
   "execution_count": 7,
   "metadata": {},
   "outputs": [],
   "source": [
    "pages = np.arange(1,1000, 100)\n",
    "for i in range (len(pages)):\n",
    "    link = \"https://www.imdb.com/search/title/?groups=top_1000&sort=user_rating,desc&count=100&start=\"+str(pages[i])+\"&ref_=adv_nxt\"\n",
    "    driver.get(link)\n",
    "    scroll(driver, 1)\n",
    "    content = driver.page_source\n",
    "    soup = BeautifulSoup(content)\n",
    "    for a in soup.findAll('div', attrs={'class':'lister-item-content'}):\n",
    "        x = []\n",
    "        x.append(a.find('a', href=True))\n",
    "        x.append(a.find('span', attrs={'class':'lister-item-year text-muted unbold'}))\n",
    "        x.append(a.find('span', attrs={'class':'certificate'}))\n",
    "        x.append(a.find('span', attrs={'class':'runtime'}))\n",
    "        x.append(a.find('span', attrs={'class':'genre'}))\n",
    "        x.append(a.find('div', attrs={'class':'inline-block ratings-imdb-rating'}))\n",
    "        x.append(a.find('div', attrs={'class':'inline-block ratings-metascore'}))\n",
    "        for i in range(len(x)):\n",
    "            if isinstance(x[i], type(None)):\n",
    "                data[i].append(None)\n",
    "            else:\n",
    "                x_value = x[i].text.replace(\"\\n\",\"\")\n",
    "                data[i].append(x_value)"
   ]
  },
  {
   "cell_type": "code",
   "execution_count": 8,
   "metadata": {
    "tags": []
   },
   "outputs": [],
   "source": [
    "for i in range(len(data[6])):\n",
    "    val_genre = data[4][i].split()\n",
    "    data[4][i] = \"\"\n",
    "    for j in val_genre:\n",
    "        data[4][i]  += j + \" \"\n",
    "    if(type(data[6][i]) != type(None)):\n",
    "        val = data[6][i].split()\n",
    "        data[6][i] = val[0]"
   ]
  },
  {
   "cell_type": "code",
   "execution_count": 10,
   "metadata": {},
   "outputs": [
    {
     "output_type": "execute_result",
     "data": {
      "text/plain": [
       "                               title    year certificate  runtime  \\\n",
       "0           The Shawshank Redemption  (1994)           R  142 min   \n",
       "1                      The Godfather  (1972)           R  175 min   \n",
       "2                    The Dark Knight  (2008)       PG-13  152 min   \n",
       "3             The Godfather: Part II  (1974)           R  202 min   \n",
       "4                       12 Angry Men  (1957)    Approved   96 min   \n",
       "..                               ...     ...         ...      ...   \n",
       "995                            Giant  (1956)           G  201 min   \n",
       "996            From Here to Eternity  (1953)      Passed  118 min   \n",
       "997                         Lifeboat  (1944)   Not Rated   97 min   \n",
       "998  Snow White and the Seven Dwarfs  (1937)    Approved   83 min   \n",
       "999                     The 39 Steps  (1935)   Not Rated   86 min   \n",
       "\n",
       "                           genre rating metascore  \n",
       "0                         Drama     9.3        80  \n",
       "1                  Crime, Drama     9.2       100  \n",
       "2          Action, Crime, Drama     9.0        84  \n",
       "3                  Crime, Drama     9.0        90  \n",
       "4                  Crime, Drama     9.0        96  \n",
       "..                           ...    ...       ...  \n",
       "995              Drama, Western     7.6        84  \n",
       "996         Drama, Romance, War     7.6        85  \n",
       "997                  Drama, War     7.6        78  \n",
       "998  Animation, Family, Fantasy     7.6        95  \n",
       "999           Mystery, Thriller     7.6        93  \n",
       "\n",
       "[1000 rows x 7 columns]"
      ],
      "text/html": "<div>\n<style scoped>\n    .dataframe tbody tr th:only-of-type {\n        vertical-align: middle;\n    }\n\n    .dataframe tbody tr th {\n        vertical-align: top;\n    }\n\n    .dataframe thead th {\n        text-align: right;\n    }\n</style>\n<table border=\"1\" class=\"dataframe\">\n  <thead>\n    <tr style=\"text-align: right;\">\n      <th></th>\n      <th>title</th>\n      <th>year</th>\n      <th>certificate</th>\n      <th>runtime</th>\n      <th>genre</th>\n      <th>rating</th>\n      <th>metascore</th>\n    </tr>\n  </thead>\n  <tbody>\n    <tr>\n      <th>0</th>\n      <td>The Shawshank Redemption</td>\n      <td>(1994)</td>\n      <td>R</td>\n      <td>142 min</td>\n      <td>Drama</td>\n      <td>9.3</td>\n      <td>80</td>\n    </tr>\n    <tr>\n      <th>1</th>\n      <td>The Godfather</td>\n      <td>(1972)</td>\n      <td>R</td>\n      <td>175 min</td>\n      <td>Crime, Drama</td>\n      <td>9.2</td>\n      <td>100</td>\n    </tr>\n    <tr>\n      <th>2</th>\n      <td>The Dark Knight</td>\n      <td>(2008)</td>\n      <td>PG-13</td>\n      <td>152 min</td>\n      <td>Action, Crime, Drama</td>\n      <td>9.0</td>\n      <td>84</td>\n    </tr>\n    <tr>\n      <th>3</th>\n      <td>The Godfather: Part II</td>\n      <td>(1974)</td>\n      <td>R</td>\n      <td>202 min</td>\n      <td>Crime, Drama</td>\n      <td>9.0</td>\n      <td>90</td>\n    </tr>\n    <tr>\n      <th>4</th>\n      <td>12 Angry Men</td>\n      <td>(1957)</td>\n      <td>Approved</td>\n      <td>96 min</td>\n      <td>Crime, Drama</td>\n      <td>9.0</td>\n      <td>96</td>\n    </tr>\n    <tr>\n      <th>...</th>\n      <td>...</td>\n      <td>...</td>\n      <td>...</td>\n      <td>...</td>\n      <td>...</td>\n      <td>...</td>\n      <td>...</td>\n    </tr>\n    <tr>\n      <th>995</th>\n      <td>Giant</td>\n      <td>(1956)</td>\n      <td>G</td>\n      <td>201 min</td>\n      <td>Drama, Western</td>\n      <td>7.6</td>\n      <td>84</td>\n    </tr>\n    <tr>\n      <th>996</th>\n      <td>From Here to Eternity</td>\n      <td>(1953)</td>\n      <td>Passed</td>\n      <td>118 min</td>\n      <td>Drama, Romance, War</td>\n      <td>7.6</td>\n      <td>85</td>\n    </tr>\n    <tr>\n      <th>997</th>\n      <td>Lifeboat</td>\n      <td>(1944)</td>\n      <td>Not Rated</td>\n      <td>97 min</td>\n      <td>Drama, War</td>\n      <td>7.6</td>\n      <td>78</td>\n    </tr>\n    <tr>\n      <th>998</th>\n      <td>Snow White and the Seven Dwarfs</td>\n      <td>(1937)</td>\n      <td>Approved</td>\n      <td>83 min</td>\n      <td>Animation, Family, Fantasy</td>\n      <td>7.6</td>\n      <td>95</td>\n    </tr>\n    <tr>\n      <th>999</th>\n      <td>The 39 Steps</td>\n      <td>(1935)</td>\n      <td>Not Rated</td>\n      <td>86 min</td>\n      <td>Mystery, Thriller</td>\n      <td>7.6</td>\n      <td>93</td>\n    </tr>\n  </tbody>\n</table>\n<p>1000 rows × 7 columns</p>\n</div>"
     },
     "metadata": {},
     "execution_count": 10
    }
   ],
   "source": [
    "attributes = ['title', 'year', 'certificate', 'runtime','genre','rating','metascore']\n",
    "df = pd.DataFrame()\n",
    "for i in range(len(attributes)):\n",
    "    df.insert(len(df.columns), attributes[i], data[i]) \n",
    "df"
   ]
  },
  {
   "cell_type": "code",
   "execution_count": 11,
   "metadata": {},
   "outputs": [],
   "source": [
    "df.to_csv('movie_data.csv', index=False, encoding='utf-8')\n",
    "driver.close()"
   ]
  },
  {
   "cell_type": "code",
   "execution_count": null,
   "metadata": {},
   "outputs": [],
   "source": []
  }
 ]
}